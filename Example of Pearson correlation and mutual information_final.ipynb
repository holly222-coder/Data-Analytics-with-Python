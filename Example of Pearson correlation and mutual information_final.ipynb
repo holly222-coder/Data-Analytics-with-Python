{
 "cells": [
  {
   "cell_type": "markdown",
   "metadata": {},
   "source": [
    "\n",
    "# Correlation and Mutual Information \n"
   ]
  },
  {
   "cell_type": "code",
   "execution_count": 2,
   "metadata": {},
   "outputs": [],
   "source": [
    "import pandas as pd\n",
    "import numpy as np\n",
    "import matplotlib.pyplot as plt\n",
    "%matplotlib inline  "
   ]
  },
  {
   "cell_type": "markdown",
   "metadata": {},
   "source": [
    "# Pearson Correlation Example"
   ]
  },
  {
   "cell_type": "code",
   "execution_count": 3,
   "metadata": {},
   "outputs": [
    {
     "name": "stdout",
     "output_type": "stream",
     "text": [
      "        X      Y\n",
      "0    1000  100.0\n",
      "1    2500  105.0\n",
      "2    3000   80.0\n",
      "3    5000   77.0\n",
      "4    6000   74.0\n",
      "5    9000   70.0\n",
      "6   11000   65.0\n",
      "7   14000   63.0\n",
      "8   18000   62.0\n",
      "9   19000   61.0\n",
      "10  19500   60.5\n",
      "11  22000   55.0\n"
     ]
    },
    {
     "data": {
      "image/png": "[encoded data removed]",
      "text/plain": [
       "<Figure size 432x288 with 1 Axes>"
      ]
     },
     "metadata": {
      "needs_background": "light"
     },
     "output_type": "display_data"
    },
    {
     "name": "stdout",
     "output_type": "stream",
     "text": [
      "Pearson r is  -0.8693696828720753\n"
     ]
    }
   ],
   "source": [
    "d = pd.DataFrame.from_dict({'X' : [1000,2500,3000,5000,6000,9000,11000,14000,18000,19000,19500,22000],  'Y' :[100,105,80,77,74,70,65,63,62,61,60.5,55]})\n",
    "print(d)\n",
    "plt.scatter(d['X'],d['Y'])\n",
    "plt.show()\n",
    "\n",
    "print(\"Pearson r is \",d['X'].corr(d['Y']))\n",
    "\n"
   ]
  },
  {
   "cell_type": "markdown",
   "metadata": {},
   "source": [
    "# Entropy Example"
   ]
  },
  {
   "cell_type": "code",
   "execution_count": 4,
   "metadata": {},
   "outputs": [
    {
     "name": "stdout",
     "output_type": "stream",
     "text": [
      "H(X) 1.584962500721156\n",
      "H(Y) 2.0\n"
     ]
    }
   ],
   "source": [
    "def my_entropy(probs):\n",
    "   \n",
    "    return -probs.dot(np.log2(probs))\n",
    "\n",
    "d =pd.DataFrame.from_dict({'X' : [1,1,1,1,2,2,2,2,3,3,3,3],  'Y' :[4,4,4,3,3,3,2,2,2,1,1,1]})\n",
    "print(\"H(X)\",my_entropy(d['X'].value_counts(normalize=True, sort=False)))\n",
    "print(\"H(Y)\",my_entropy(d['Y'].value_counts(normalize=True, sort=False)))"
   ]
  },
  {
   "cell_type": "markdown",
   "metadata": {},
   "source": [
    "# Mutual Information Example"
   ]
  },
  {
   "cell_type": "code",
   "execution_count": 5,
   "metadata": {},
   "outputs": [
    {
     "data": {
      "text/plain": [
       "{'Hx': 1.584962500721156,\n",
       " 'Hy': 2.0,\n",
       " 'MI': 1.1258145836939115,\n",
       " 'NMI': 0.7103099178571526}"
      ]
     },
     "execution_count": 5,
     "metadata": {},
     "output_type": "execute_result"
    }
   ],
   "source": [
    "def mutual_info(df):\n",
    "    \n",
    "    Hx = my_entropy(df.iloc[:,0].value_counts(normalize=True, sort=False))\n",
    "    Hy = my_entropy(df.iloc[:,1].value_counts(normalize=True, sort=False))\n",
    "    \n",
    "    \n",
    "    counts = d.groupby([\"X\",\"Y\"]).size()\n",
    "    probs = counts/ counts.values.sum()\n",
    "    H_xy = my_entropy(probs)\n",
    "\n",
    "    # Mutual Information\n",
    "    I_xy = Hx + Hy - H_xy\n",
    "    MI = I_xy\n",
    "    NMI = I_xy/min(Hx,Hy) #I_xy/np.sqrt(H_x*H_y)\n",
    "    #NMI = I_xy/np.sqrt(Hx*Hy)\n",
    "    \n",
    "    return {'Hx':Hx,'Hy':Hy,'MI':MI,'NMI':NMI} \n",
    "\n",
    "d =pd.DataFrame.from_dict({'X' : [1,1,1,1,2,2,2,2,3,3,3,3],  'Y' :[4,4,4,3,3,3,2,2,2,1,1,1]})\n",
    "mutual_info(d)"
   ]
  },
  {
   "cell_type": "code",
   "execution_count": 6,
   "metadata": {},
   "outputs": [
    {
     "data": {
      "text/plain": [
       "0.7103099178571527"
      ]
     },
     "execution_count": 6,
     "metadata": {},
     "output_type": "execute_result"
    }
   ],
   "source": [
    "from sklearn.metrics import normalized_mutual_info_score\n",
    "normalized_mutual_info_score(d['X'], d['Y'], average_method='min')"
   ]
  },
  {
   "cell_type": "code",
   "execution_count": null,
   "metadata": {},
   "outputs": [],
   "source": []
  }
 ],
 "metadata": {
  "kernelspec": {
   "display_name": "Python 3 (ipykernel)",
   "language": "python",
   "name": "python3"
  },
  "language_info": {
   "codemirror_mode": {
    "name": "ipython",
    "version": 3
   },
   "file_extension": ".py",
   "mimetype": "text/x-python",
   "name": "python",
   "nbconvert_exporter": "python",
   "pygments_lexer": "ipython3",
   "version": "3.7.3"
  }
 },
 "nbformat": 4,
 "nbformat_minor": 1
}
